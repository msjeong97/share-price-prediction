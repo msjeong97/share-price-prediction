{
 "cells": [
  {
   "cell_type": "code",
   "execution_count": 1,
   "id": "e175b06a",
   "metadata": {},
   "outputs": [
    {
     "name": "stderr",
     "output_type": "stream",
     "text": [
      "/Users/minseop/.pyenv/versions/3.8.5/envs/env_stock_bot/lib/python3.8/site-packages/mpl_finance.py:16: DeprecationWarning: \n",
      "\n",
      "  =================================================================\n",
      "\n",
      "   WARNING: `mpl_finance` is deprecated:\n",
      "\n",
      "    Please use `mplfinance` instead (no hyphen, no underscore).\n",
      "\n",
      "    To install: `pip install --upgrade mplfinance` \n",
      "\n",
      "   For more information, see: https://pypi.org/project/mplfinance/\n",
      "\n",
      "  =================================================================\n",
      "\n",
      "  __warnings.warn('\\n\\n  ================================================================='+\n"
     ]
    }
   ],
   "source": [
    "from pykrx import stock\n",
    "import mpl_finance\n",
    "import exchange_calendars as ecals\n",
    "\n",
    "\n",
    "import matplotlib.pyplot as plt\n",
    "import matplotlib.ticker as ticker\n",
    "import arrow\n",
    "import pandas as pd\n",
    "import numpy as np\n",
    "import time\n",
    "\n",
    "pd.set_option('display.max_row', 500)\n",
    "pd.set_option('display.max_columns', 100)\n",
    "\n",
    "import warnings\n",
    "warnings.filterwarnings('ignore')\n",
    "\n",
    "from matplotlib.pylab import rcParams\n",
    "rcParams['figure.figsize'] = 20,10\n",
    "from tensorflow.keras.models import Sequential\n",
    "from tensorflow.keras.layers import LSTM,Dropout,Dense\n",
    "from sklearn.preprocessing import MinMaxScaler\n",
    "from tensorflow.keras.models import load_model\n"
   ]
  },
  {
   "cell_type": "code",
   "execution_count": 2,
   "id": "dede272f",
   "metadata": {},
   "outputs": [],
   "source": [
    "# constant variables\n",
    "TRAINING_DAYS = 1080\n",
    "TRAINING_WINDOW = 50\n",
    "\n",
    "# open, high, low, close, volume\n",
    "NUM_FEATURE = 5\n",
    "\n",
    "NUM_LAYER = 2\n",
    "NUM_EPOCH = 100"
   ]
  },
  {
   "cell_type": "code",
   "execution_count": 3,
   "id": "b7e08344",
   "metadata": {},
   "outputs": [],
   "source": [
    "def draw_candle_chart(df, title, postfix=''):\n",
    "    DATE_TICK_RANGE = int(len(df)/9)\n",
    "    fig = plt.figure(figsize=(16, 8))\n",
    "    ax = fig.add_subplot(111)\n",
    "    ax.set_title(title)\n",
    "\n",
    "    date_index_list = range(len(df))\n",
    "    date_list = []\n",
    "\n",
    "    cnt = 0\n",
    "    for day in df.index:\n",
    "        date_list.append(arrow.get(day).format('YYYY-MM-DD')) if cnt % DATE_TICK_RANGE == 0 else date_list.append('')\n",
    "        cnt = cnt + 1\n",
    "    \n",
    "    # to show first date and last date\n",
    "    date_list[0] = arrow.get(df.index[0]).format('YYYY-MM-DD')\n",
    "    date_list[len(date_list)-1-((cnt-1)%DATE_TICK_RANGE)] = ''\n",
    "    date_list[len(date_list)-1] = arrow.get(df.index[len(df)-1]).format('YYYY-MM-DD')\n",
    "\n",
    "    ax.xaxis.set_major_locator(ticker.FixedLocator(date_index_list))\n",
    "    ax.xaxis.set_major_formatter(ticker.FixedFormatter(date_list))\n",
    "\n",
    "    mpl_finance.candlestick2_ohlc(ax, df['open'+ postfix], df['high'+ postfix],\n",
    "                                  df['low'+ postfix], df['close'+ postfix], width=0.5, colorup='r', colordown='b')\n",
    "    plt.show()"
   ]
  },
  {
   "cell_type": "code",
   "execution_count": 4,
   "id": "90fa97b9",
   "metadata": {},
   "outputs": [],
   "source": [
    "def get_stock_info_dataframe(end_date, start_date, ticker):\n",
    "    df = stock.get_market_ohlcv_by_date(fromdate=start_date, todate=end_date, ticker=ticker)\n",
    "    df = df.rename(columns={\n",
    "                      '시가': 'open',\n",
    "                      '고가': 'high',\n",
    "                      '저가': 'low',\n",
    "                      '종가': 'close',\n",
    "                      '거래량': 'volume'})\n",
    "\n",
    "    return df"
   ]
  },
  {
   "cell_type": "code",
   "execution_count": 5,
   "id": "833087a4",
   "metadata": {},
   "outputs": [],
   "source": [
    "def split_training_and_test_dataframe(df):\n",
    "    scaler = MinMaxScaler(feature_range=(0, 1))\n",
    "    scaled_df = scaler.fit_transform(df)\n",
    "    \n",
    "    train_arr = scaled_df[0:int(len(scaled_df)*0.8),:]\n",
    "    test_arr = scaled_df[int(len(scaled_df)*0.8):,:]\n",
    "    \n",
    "    return train_arr, test_arr, scaler\n"
   ]
  },
  {
   "cell_type": "code",
   "execution_count": 6,
   "id": "9236a0e0",
   "metadata": {},
   "outputs": [],
   "source": [
    "def gen_test_df(df):\n",
    "    test_df = df.iloc[int(len(df)*0.8):,:]\n",
    "\n",
    "    return test_df\n"
   ]
  },
  {
   "cell_type": "code",
   "execution_count": 7,
   "id": "b1d26482",
   "metadata": {},
   "outputs": [],
   "source": [
    "def processing_training_data(train_arr, feature_idx):\n",
    "    x_train, y_train = [], []\n",
    "    \n",
    "    for i in range(TRAINING_WINDOW, len(train_arr)):\n",
    "        x_train.append(train_arr[i-TRAINING_WINDOW:i, feature_idx])\n",
    "        y_train.append(train_arr[i, feature_idx])\n",
    "    \n",
    "    x_train = np.array(x_train)\n",
    "    y_train = np.array(y_train)\n",
    "    \n",
    "    x_train = np.reshape(x_train, (x_train.shape[0], x_train.shape[1], 1))\n",
    "\n",
    "    return x_train, y_train"
   ]
  },
  {
   "cell_type": "code",
   "execution_count": 8,
   "id": "f90a2232",
   "metadata": {},
   "outputs": [],
   "source": [
    "def training_model(x_train, y_train):\n",
    "    start_time = time.time()\n",
    "    lstm_model = Sequential()\n",
    "    lstm_model.add(LSTM(units=TRAINING_WINDOW, return_sequences=True, input_shape=(TRAINING_WINDOW, 1)))\n",
    "    \n",
    "    for i in range(NUM_LAYER):\n",
    "        lstm_model.add(LSTM(units=TRAINING_WINDOW, return_sequences=True))\n",
    "        lstm_model.add(Dropout(0.2))\n",
    "\n",
    "    lstm_model.add(LSTM(units=50))\n",
    "    lstm_model.add(Dropout(0.2))\n",
    "\n",
    "    lstm_model.add(Dense(units=1))\n",
    "    \n",
    "    lstm_model.compile(loss='mean_squared_error', optimizer='adam')\n",
    "    lstm_model.fit(x_train, y_train, epochs=NUM_EPOCH, batch_size=20, verbose=False)\n",
    "    print(f'training time: {time.time() - start_time} sec')\n",
    "    \n",
    "    return lstm_model\n",
    "\n"
   ]
  },
  {
   "cell_type": "code",
   "execution_count": 9,
   "id": "175c9ee8",
   "metadata": {},
   "outputs": [],
   "source": [
    "def predict_test_data(models, train_arr, test_arr, scaler):\n",
    "    test_data = np.concatenate((train_arr[len(train_arr)-TRAINING_WINDOW:], test_arr ), axis=0)\n",
    "    predicted_values = []\n",
    "\n",
    "    for feature_idx in range(len(models)):\n",
    "        x_test = []\n",
    "        lstm_model = models[feature_idx]\n",
    "        for i in range(TRAINING_WINDOW, len(test_data)):\n",
    "            x_test.append(test_data[i-TRAINING_WINDOW:i,feature_idx])\n",
    "        x_test = np.array(x_test)\n",
    "        x_test = np.reshape(x_test, (x_test.shape[0], x_test.shape[1],1))\n",
    "        \n",
    "        predicted_closing_price = lstm_model.predict(x_test)        \n",
    "        predicted_values.append(predicted_closing_price)\n",
    "        \n",
    "    predicted_arr = predicted_values[0]\n",
    "    \n",
    "    for i in range(1, len(predicted_values)):\n",
    "        predicted_arr = np.concatenate((predicted_arr, predicted_values[i]), axis=1)\n",
    "\n",
    "    predicted_arr = scaler.inverse_transform(predicted_arr)\n",
    "    \n",
    "    return predicted_arr\n",
    "    \n",
    "\n",
    "        "
   ]
  },
  {
   "cell_type": "code",
   "execution_count": 10,
   "id": "57ea0d03",
   "metadata": {},
   "outputs": [],
   "source": [
    "def predict_next_open_day(models, test_arr, scaler):\n",
    "    test_data = test_arr[len(test_arr)-TRAINING_WINDOW:]\n",
    "    predicted_values = []\n",
    "\n",
    "    for feature_idx in range(len(models)):\n",
    "        x_test = []\n",
    "        lstm_model = models[feature_idx]\n",
    "\n",
    "        x_test.append(test_data[:,feature_idx])\n",
    "        x_test = np.array(x_test)\n",
    "        x_test = np.reshape(x_test, (x_test.shape[0], x_test.shape[1],1))\n",
    "        \n",
    "        predicted_closing_price = lstm_model.predict(x_test)        \n",
    "        predicted_values.append(predicted_closing_price)\n",
    "        \n",
    "    predicted_arr = predicted_values[0]\n",
    "    \n",
    "    for i in range(1, len(predicted_values)):\n",
    "        predicted_arr = np.concatenate((predicted_arr, predicted_values[i]), axis=1)\n",
    "\n",
    "    predicted_arr = scaler.inverse_transform(predicted_arr)\n",
    "    \n",
    "    return predicted_arr\n",
    "    \n",
    "\n",
    "        "
   ]
  },
  {
   "cell_type": "code",
   "execution_count": 11,
   "id": "44f2b3da",
   "metadata": {},
   "outputs": [],
   "source": [
    "def predict_share_price(stock_ticker: str):\n",
    "    end_date = arrow.utcnow().shift(hours=9).format('YYYYMMDD')\n",
    "    start_date = arrow.get(end_date).shift(days=-TRAINING_DAYS).format('YYYYMMDD')\n",
    "    \n",
    "    stock_name = stock.get_market_price_change_by_ticker(start_date, end_date).loc[stock_ticker, '종목명']\n",
    "\n",
    "    df = get_stock_info_dataframe(end_date, start_date, stock_ticker)\n",
    "    # draw_candle_chart(df, f'{ticker}: {start_date} ~ {end_date}')\n",
    "    \n",
    "    test_df = gen_test_df(df)\n",
    "    train_arr, test_arr, scaler = split_training_and_test_dataframe(df)\n",
    "    \n",
    "    # training by feature\n",
    "    models = []\n",
    "    for feature_idx in range(0, NUM_FEATURE):\n",
    "        x_train, y_train = processing_training_data(train_arr, feature_idx)\n",
    "        try:\n",
    "            model = load_model(f'share_price_prediction_feature_idx_{feature_idx}.h5')\n",
    "        except Exception as e:\n",
    "            model = training_model(x_train, y_train)\n",
    "            model.save(f'share_price_prediction_feature_idx_{feature_idx}.h5')\n",
    "        models.append(model)\n",
    "        \n",
    "    predicted_arr = predict_test_data(models, train_arr, test_arr, scaler)\n",
    "    predicted_df = pd.DataFrame(predicted_arr, index=test_df.index, columns=test_df.columns)\n",
    "    \n",
    "    test_start_date = test_df.index[0]\n",
    "    test_end_date = test_df.index[-1]\n",
    "    \n",
    "    draw_candle_chart(test_df, f'{stock_name}: {test_start_date} ~ {test_end_date}')\n",
    "    draw_candle_chart(predicted_df, f'{stock_name}: {test_start_date} ~ {test_end_date}')\n",
    "    \n",
    "    \n",
    "    xkrx = ecals.get_calendar('XKRX')\n",
    "    next_date = arrow.get((xkrx.next_open(pd.Timestamp.today()))).format('YYYY-MM-DD')\n",
    "    \n",
    "    arr = predict_next_open_day(models, test_arr, scaler)\n",
    "    next_date_open = arr[0][0]\n",
    "    next_date_close = arr[0][3]\n",
    "    \n",
    "    last_date = arrow.get(test_end_date).format('YYYY-MM-DD')\n",
    "    last_date_open = test_df.loc[last_date, 'open']\n",
    "    last_date_close = test_df.loc[last_date, 'close']\n",
    "    \n",
    "    last_pred_date = arrow.get(test_end_date).format('YYYY-MM-DD')\n",
    "    last_pred_date_open = predicted_df.loc[last_pred_date, 'open']\n",
    "    last_pred_date_close = predicted_df.loc[last_pred_date, 'close']\n",
    "    \n",
    "    return [last_date, last_date_open, last_date_close,\n",
    "            last_pred_date, last_pred_date_open, last_pred_date_close, \n",
    "            next_date, next_date_open, next_date_close]\n"
   ]
  },
  {
   "cell_type": "code",
   "execution_count": 12,
   "id": "86de56c2",
   "metadata": {
    "scrolled": true
   },
   "outputs": [
    {
     "data": {
      "image/png": "[encoded data removed]",
      "text/plain": [
       "<Figure size 1152x576 with 1 Axes>"
      ]
     },
     "metadata": {
      "needs_background": "light"
     },
     "output_type": "display_data"
    },
    {
     "data": {
      "image/png": "[encoded data removed]",
      "text/plain": [
       "<Figure size 1152x576 with 1 Axes>"
      ]
     },
     "metadata": {
      "needs_background": "light"
     },
     "output_type": "display_data"
    }
   ],
   "source": [
    "result = predict_share_price('005930')"
   ]
  },
  {
   "cell_type": "code",
   "execution_count": 13,
   "id": "502dfa9a",
   "metadata": {},
   "outputs": [],
   "source": [
    "last_date = result[0]\n",
    "last_date_open = result[1]\n",
    "last_date_close = result[2]\n",
    "last_pred_date = result[3]\n",
    "last_pred_date_open = result[4]\n",
    "last_pred_date_close = result[5]\n",
    "next_date = result[6]\n",
    "next_date_open = result[7]\n",
    "next_date_close = result[8] "
   ]
  },
  {
   "cell_type": "code",
   "execution_count": 14,
   "id": "f94dcacc",
   "metadata": {},
   "outputs": [
    {
     "name": "stdout",
     "output_type": "stream",
     "text": [
      "last day price      2021-08-27: open: 74300, close: 74300\n",
      "last day prediction 2021-08-27: open: 78664.8984375, close: 77448.9296875\n",
      "next day prediction 2021-08-30: open: 77883.5390625, close: 76693.359375\n"
     ]
    }
   ],
   "source": [
    "print(f'last day price      {last_date}: open: {last_date_open}, close: {last_date_close}')\n",
    "print(f'last day prediction {last_pred_date}: open: {last_pred_date_open}, close: {last_pred_date_close}')\n",
    "print(f'next day prediction {next_date}: open: {next_date_open}, close: {next_date_close}')"
   ]
  },
  {
   "cell_type": "code",
   "execution_count": 15,
   "id": "e84445b4",
   "metadata": {},
   "outputs": [],
   "source": [
    "# feature 간 영향을 미치지만 현재 lstm 모델은 feature끼리 예측에 영향을 미치지 못함"
   ]
  },
  {
   "cell_type": "code",
   "execution_count": null,
   "id": "fc65e03f",
   "metadata": {},
   "outputs": [],
   "source": []
  }
 ],
 "metadata": {
  "kernelspec": {
   "display_name": "Python 3 (ipykernel)",
   "language": "python",
   "name": "python3"
  },
  "language_info": {
   "codemirror_mode": {
    "name": "ipython",
    "version": 3
   },
   "file_extension": ".py",
   "mimetype": "text/x-python",
   "name": "python",
   "nbconvert_exporter": "python",
   "pygments_lexer": "ipython3",
   "version": "3.8.5"
  }
 },
 "nbformat": 4,
 "nbformat_minor": 5
}
