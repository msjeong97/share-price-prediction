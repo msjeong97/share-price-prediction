{
 "cells": [
  {
   "cell_type": "code",
   "execution_count": 1,
   "id": "e175b06a",
   "metadata": {},
   "outputs": [
    {
     "name": "stderr",
     "output_type": "stream",
     "text": [
      "/Users/minseop/.pyenv/versions/3.8.5/envs/env_stock_bot/lib/python3.8/site-packages/mpl_finance.py:16: DeprecationWarning: \n",
      "\n",
      "  =================================================================\n",
      "\n",
      "   WARNING: `mpl_finance` is deprecated:\n",
      "\n",
      "    Please use `mplfinance` instead (no hyphen, no underscore).\n",
      "\n",
      "    To install: `pip install --upgrade mplfinance` \n",
      "\n",
      "   For more information, see: https://pypi.org/project/mplfinance/\n",
      "\n",
      "  =================================================================\n",
      "\n",
      "  __warnings.warn('\\n\\n  ================================================================='+\n"
     ]
    }
   ],
   "source": [
    "from pykrx import stock\n",
    "import mpl_finance\n",
    "\n",
    "import matplotlib.pyplot as plt\n",
    "import matplotlib.ticker as ticker\n",
    "import arrow\n",
    "import pandas as pd\n",
    "import numpy as np\n",
    "\n",
    "pd.set_option('display.max_row', 500)\n",
    "pd.set_option('display.max_columns', 100)\n",
    "\n",
    "import warnings\n",
    "warnings.filterwarnings('ignore')"
   ]
  },
  {
   "cell_type": "code",
   "execution_count": 2,
   "id": "dede272f",
   "metadata": {},
   "outputs": [],
   "source": [
    "# constant variables\n",
    "TRAINING_DAYS = 360\n",
    "DAYS_FOR_PREDICTION = 7\n",
    "NUM_BINS = 30"
   ]
  },
  {
   "cell_type": "code",
   "execution_count": 3,
   "id": "90fa97b9",
   "metadata": {},
   "outputs": [],
   "source": [
    "def get_stock_info_dataframe(end_date, start_date, ticker):\n",
    "    df = stock.get_market_ohlcv_by_date(fromdate=start_date, todate=end_date, ticker=ticker)\n",
    "    df = df.rename(columns={\n",
    "                      '시가': 'open',\n",
    "                      '고가': 'high',\n",
    "                      '저가': 'low',\n",
    "                      '종가': 'close',\n",
    "                      '거래량': 'volume'})\n",
    "\n",
    "    open_next_day = []\n",
    "    high_next_day = []\n",
    "    low_next_day = []\n",
    "    close_next_day = []\n",
    "    volume_next_day = []\n",
    "    \n",
    "    open_days_ago = []\n",
    "    high_days_ago = []\n",
    "    low_days_ago = []\n",
    "    close_days_ago = []\n",
    "    volume_days_ago = []\n",
    "\n",
    "    for ago_days in range(0, DAYS_FOR_PREDICTION):\n",
    "        open_days_ago.append([])\n",
    "        high_days_ago.append([])\n",
    "        low_days_ago.append([])\n",
    "        close_days_ago.append([])\n",
    "        volume_days_ago.append([])\n",
    "    \n",
    "    \n",
    "    for i in range(DAYS_FOR_PREDICTION-1, len(df)-1):\n",
    "        open_next_day.append(df.iloc[i+1]['open'])\n",
    "        high_next_day.append(df.iloc[i+1]['high'])\n",
    "        low_next_day.append(df.iloc[i+1]['low'])\n",
    "        close_next_day.append(df.iloc[i+1]['close'])\n",
    "        volume_next_day.append(df.iloc[i+1]['volume'])\n",
    "        \n",
    "        for ago_days in range(1, DAYS_FOR_PREDICTION):\n",
    "            open_days_ago[ago_days].append(df.iloc[i-ago_days]['open'])\n",
    "            high_days_ago[ago_days].append(df.iloc[i-ago_days]['high'])\n",
    "            low_days_ago[ago_days].append(df.iloc[i-ago_days]['low'])\n",
    "            close_days_ago[ago_days].append(df.iloc[i-ago_days]['close'])\n",
    "            volume_days_ago[ago_days].append(df.iloc[i-ago_days]['volume'])\n",
    "\n",
    "    df = df.iloc[DAYS_FOR_PREDICTION-1:len(df)-1,]\n",
    "\n",
    "    for ago_days in range(1, DAYS_FOR_PREDICTION):\n",
    "        df[f'open_{ago_days}day_ago'] = open_days_ago[ago_days]\n",
    "        df[f'high_{ago_days}day_ago'] = high_days_ago[ago_days]\n",
    "        df[f'low_{ago_days}day_ago'] = low_days_ago[ago_days]\n",
    "        df[f'close_{ago_days}day_ago'] = close_days_ago[ago_days]\n",
    "        df[f'volume_{ago_days}day_ago'] = volume_days_ago[ago_days]\n",
    "    \n",
    "    df['open_next_day'] = open_next_day\n",
    "    df['high_next_day'] = high_next_day\n",
    "    df['low_next_day'] = low_next_day\n",
    "    df['close_next_day'] = close_next_day\n",
    "    df['volume_next_day'] = volume_next_day\n",
    "\n",
    "    # binning trading volumes\n",
    "    for col in df.columns:\n",
    "        if 'volume' in col:\n",
    "            count, bins_dividers = np.histogram(df[col], bins=NUM_BINS)\n",
    "            bin_names = [i for i in range(1, NUM_BINS+1)]\n",
    "            df[col+'_binned'] = pd.cut(x=df[col],\n",
    "                                       bins=bins_dividers,\n",
    "                                       labels=bin_names,\n",
    "                                       include_lowest = True)\n",
    "            df = df.drop([col],axis='columns')\n",
    "\n",
    "    return df"
   ]
  },
  {
   "cell_type": "code",
   "execution_count": 4,
   "id": "fc65e03f",
   "metadata": {},
   "outputs": [],
   "source": [
    "def get_today_stock_info_dataframe(end_date, start_date, ticker):\n",
    "    df = stock.get_market_ohlcv_by_date(fromdate=start_date, todate=end_date, ticker=ticker)\n",
    "    df = df.rename(columns={\n",
    "                      '시가': 'open',\n",
    "                      '고가': 'high',\n",
    "                      '저가': 'low',\n",
    "                      '종가': 'close',\n",
    "                      '거래량': 'volume'})\n",
    "\n",
    "    df_today = df.iloc[len(df)-1:,:]\n",
    "    \n",
    "    open_days_ago = []\n",
    "    high_days_ago = []\n",
    "    low_days_ago = []\n",
    "    close_days_ago = []\n",
    "    volume_days_ago = []\n",
    "\n",
    "    for ago_days in range(0, DAYS_FOR_PREDICTION):\n",
    "        open_days_ago.append([])\n",
    "        high_days_ago.append([])\n",
    "        low_days_ago.append([])\n",
    "        close_days_ago.append([])\n",
    "        volume_days_ago.append([])\n",
    "\n",
    "    for ago_days in range(1, DAYS_FOR_PREDICTION):\n",
    "        open_days_ago[ago_days].append(df.iloc[len(df)-1-ago_days]['open'])\n",
    "        high_days_ago[ago_days].append(df.iloc[len(df)-1-ago_days]['high'])\n",
    "        low_days_ago[ago_days].append(df.iloc[len(df)-1-ago_days]['low'])\n",
    "        close_days_ago[ago_days].append(df.iloc[len(df)-1-ago_days]['close'])\n",
    "        volume_days_ago[ago_days].append(df.iloc[len(df)-1-ago_days]['volume'])\n",
    "\n",
    "    for ago_days in range(1, DAYS_FOR_PREDICTION):\n",
    "        df_today[f'open_{ago_days}day_ago'] = open_days_ago[ago_days]\n",
    "        df_today[f'high_{ago_days}day_ago'] = high_days_ago[ago_days]\n",
    "        df_today[f'low_{ago_days}day_ago'] = low_days_ago[ago_days]\n",
    "        df_today[f'close_{ago_days}day_ago'] = close_days_ago[ago_days]\n",
    "        df_today[f'volume_{ago_days}day_ago'] = volume_days_ago[ago_days]\n",
    "\n",
    "    # binning trading volumes\n",
    "    for col in df_today.columns:\n",
    "        if 'volume' in col:\n",
    "            count, bins_dividers = np.histogram(df_today[col], bins=NUM_BINS)\n",
    "            bin_names = [i for i in range(1, NUM_BINS+1)]\n",
    "            df_today[col+'_binned'] = pd.cut(x=df_today[col],\n",
    "                                             bins=bins_dividers,\n",
    "                                             labels=bin_names,\n",
    "                                             include_lowest = True)\n",
    "            df_today = df_today.drop([col],axis='columns')\n",
    "\n",
    "    return df_today"
   ]
  },
  {
   "cell_type": "code",
   "execution_count": 5,
   "id": "bf31f9d7",
   "metadata": {},
   "outputs": [],
   "source": [
    "def draw_candle_chart(df_stock_info, title, postfix=''):\n",
    "    DATE_TICK_RANGE = int(len(df_stock_info)/9)\n",
    "    fig = plt.figure(figsize=(16, 8))\n",
    "    ax = fig.add_subplot(111)\n",
    "    ax.set_title(title)\n",
    "\n",
    "    day_list = range(len(df_stock_info))\n",
    "    name_list = []\n",
    "\n",
    "    cnt = 0\n",
    "    for day in df_stock_info.index:\n",
    "        name_list.append(arrow.get(day).format('YYYY-MM-DD')) if (cnt % DATE_TICK_RANGE == 0 or cnt == len(df_stock_info)-1) else name_list.append('')\n",
    "        cnt = cnt + 1\n",
    "\n",
    "    ax.xaxis.set_major_locator(ticker.FixedLocator(day_list))\n",
    "    ax.xaxis.set_major_formatter(ticker.FixedFormatter(name_list))\n",
    "\n",
    "    mpl_finance.candlestick2_ohlc(ax, df_stock_info['open'+postfix], df_stock_info['high'+postfix],\n",
    "                                  df_stock_info['low'+postfix], df_stock_info['close'+postfix], width=0.5, colorup='r', colordown='b')\n",
    "    plt.show()"
   ]
  },
  {
   "cell_type": "code",
   "execution_count": 6,
   "id": "7c3619a2",
   "metadata": {},
   "outputs": [],
   "source": [
    "from sklearn.pipeline import Pipeline\n",
    "from sklearn.model_selection import train_test_split\n",
    "from sklearn.preprocessing import StandardScaler, MinMaxScaler\n",
    "from sklearn.model_selection import KFold, GridSearchCV\n",
    "from sklearn.model_selection import train_test_split\n",
    "import random\n",
    "\n",
    "from sklearn.linear_model import LinearRegression, Ridge, Lasso, LogisticRegression\n",
    "from sklearn.svm import SVR\n",
    "from sklearn.neural_network import MLPRegressor\n",
    "\n",
    "from xgboost import XGBRegressor\n",
    "import time"
   ]
  },
  {
   "cell_type": "code",
   "execution_count": 7,
   "id": "e6c36eec",
   "metadata": {},
   "outputs": [],
   "source": [
    "def model_fitting(df_train):\n",
    "    x1_train, x1_test, y1_train, y1_test = train_test_split(df_train.loc[:, [col for col in df_train.columns if col not in ['open_next_day', 'high_next_day', 'low_next_day', 'close_next_day', 'volume_next_day_binned']]],\n",
    "                                                            df_train[['open_next_day', 'high_next_day', 'low_next_day', 'close_next_day']],\n",
    "                                                            random_state=random.randrange(1, 100))\n",
    "\n",
    "    pipe = Pipeline([('preprocessing', None), ('regressor', LinearRegression())])\n",
    "    pre_list = [StandardScaler(), MinMaxScaler(), None]\n",
    "    hyperparam_grid = [\n",
    "        {'regressor': [LinearRegression()], 'preprocessing': pre_list},\n",
    "        {'regressor': [Ridge()], 'preprocessing': pre_list,\n",
    "         'regressor__alpha': [0.0001, 0.001, 0.01, 0.1, 1, 10]},\n",
    "        {'regressor': [Lasso()], 'preprocessing': pre_list,\n",
    "         'regressor__alpha': [0.0001, 0.001, 0.01, 0.1, 1, 10]},\n",
    "        {'regressor': [LogisticRegression()], 'preprocessing': pre_list,\n",
    "         'regressor__C': [0.0001, 0.001, 0.01, 0.1, 1, 10]},\n",
    "        {'regressor': [SVR()], 'preprocessing': pre_list,\n",
    "         'regressor__epsilon': [0.001, 0.01, 0.1, 1, 10],\n",
    "         'regressor__C': [0.0001, 0.001, 0.01, 0.1, 1, 10]},\n",
    "        {'regressor': [MLPRegressor()], 'preprocessing': pre_list,\n",
    "         'regressor__hidden_layer_sizes': [(100,) , (10, 10, )],\n",
    "         'regressor__activation': ['relu', 'logistic'],\n",
    "         'regressor__solver': ['lbfgs', 'adam'],\n",
    "         'regressor__alpha': [0.0001, 0.01, 1]},\n",
    "        {'regressor': [XGBRegressor(objective='reg:squarederror')],\n",
    "         'preprocessing': pre_list,\n",
    "         'regressor__learning_rate': [0.0, 0.1, 0.09, 0.089, 0.08],\n",
    "         'regressor__booster': ['gbtree', 'gblinear', 'dart']}\n",
    "\n",
    "    ]\n",
    "    kfold = KFold(n_splits=5, shuffle=True, random_state=1)\n",
    "    grid = GridSearchCV(pipe, hyperparam_grid, scoring='neg_mean_absolute_error',\n",
    "                        refit=True, cv=kfold)\n",
    "    grid.fit(x1_train, y1_train)\n",
    "    print(grid.best_estimator_)\n",
    "    print(grid.best_params_)\n",
    "    print(-grid.best_score_)\n",
    "    \n",
    "    return grid"
   ]
  },
  {
   "cell_type": "code",
   "execution_count": 8,
   "id": "0b8bf242",
   "metadata": {},
   "outputs": [],
   "source": [
    "# ticker=005930: Samsung Electronics\n",
    "# ticker=000660: Hynix\n",
    "def predict_share_price(stock_info: str):\n",
    "    end_date = arrow.utcnow().shift(hours=9).format('YYYYMMDD')\n",
    "    start_date = arrow.get(end_date).shift(days=-TRAINING_DAYS).format('YYYYMMDD')\n",
    "\n",
    "    df = get_stock_info_dataframe(end_date, start_date, stock_info)\n",
    "    today_df = get_today_stock_info_dataframe(end_date, start_date, stock_info)\n",
    "\n",
    "    df_train = df.iloc[:len(df)-70]\n",
    "    df_test = df.iloc[len(df)-70:]\n",
    "\n",
    "    # training\n",
    "    start_time = time.time()\n",
    "    grid = model_fitting(df_train)\n",
    "    \n",
    "    print('training time %f sec' % (time.time() - start_time ))\n",
    "\n",
    "    # test\n",
    "    df_test = df_test[[col for col in df_test.columns if col not in ['open_next_day', 'high_next_day', 'low_next_day', 'close_next_day', 'volume_next_day_binned']]]\n",
    "    next_day_prediction = grid.best_estimator_.predict(df_test)\n",
    "\n",
    "    df_test_curr = df_test.iloc[1:len(df_test)]\n",
    "    df_test_curr = pd.concat([df_test_curr, today_df])\n",
    "\n",
    "    columns = ['open_prediction', 'high_prediction', 'low_prediction', 'close_prediction']\n",
    "    df_test_result = pd.DataFrame(next_day_prediction, columns=columns)\n",
    "    df_test_result = df_test_result.iloc[0:len(df_test_result)]\n",
    "    df_test_curr = df_test_curr.drop([col for col in df_test_curr.columns if 'ago' in col], axis=1)\n",
    "\n",
    "    df_test_result.index = df_test_curr.index\n",
    "    df_test_merged= pd.concat([df_test_result, df_test_curr], axis=1)\n",
    "\n",
    "    draw_candle_chart(df_test_merged, 'original chart')\n",
    "    draw_candle_chart(df_test_merged, 'predicted chart', postfix='_prediction')\n",
    "\n",
    "    tomorrow_prediction_result = grid.best_estimator_.predict(today_df)\n",
    "    \n",
    "    return tomorrow_prediction_result"
   ]
  },
  {
   "cell_type": "code",
   "execution_count": 9,
   "id": "e57d13b2",
   "metadata": {
    "scrolled": true
   },
   "outputs": [
    {
     "name": "stdout",
     "output_type": "stream",
     "text": [
      "Pipeline(steps=[('preprocessing', MinMaxScaler()),\n",
      "                ('regressor', Lasso(alpha=10))])\n",
      "{'preprocessing': MinMaxScaler(), 'regressor': Lasso(alpha=10), 'regressor__alpha': 10}\n",
      "717.6334687029107\n",
      "training time 42.852190 sec\n"
     ]
    },
    {
     "data": {
      "image/png": "[encoded data removed]",
      "text/plain": [
       "<Figure size 1152x576 with 1 Axes>"
      ]
     },
     "metadata": {
      "needs_background": "light"
     },
     "output_type": "display_data"
    },
    {
     "data": {
      "image/png": "[encoded data removed]",
      "text/plain": [
       "<Figure size 1152x576 with 1 Axes>"
      ]
     },
     "metadata": {
      "needs_background": "light"
     },
     "output_type": "display_data"
    }
   ],
   "source": [
    "tomorrow_result = predict_share_price('005930')"
   ]
  },
  {
   "cell_type": "code",
   "execution_count": 10,
   "id": "c80278a7",
   "metadata": {},
   "outputs": [
    {
     "name": "stdout",
     "output_type": "stream",
     "text": [
      "[[73157.74455328 74747.70823973 72061.40400393 73723.88238365]]\n"
     ]
    }
   ],
   "source": [
    "# open high low close\n",
    "print(tomorrow_result)"
   ]
  },
  {
   "cell_type": "code",
   "execution_count": 11,
   "id": "eca37b83",
   "metadata": {},
   "outputs": [],
   "source": [
    "# 7일전 open, high, low, close price를 알고 있을 때 다음날의 share price를 예측하는 것이므로 trend 자체는 비슷하게 나온다.\n",
    "# 하지만 candle의 상하 폭이나, 상승/하락 폭이 근접하게 예측이 안돈다. MSE가 600~700원(주가 1%) 가까이 나오는데,\n",
    "# 하루 1% 상승이 잘 안나온다는 점에서 신뢰도가 낮다.\n",
    "# Todo\n",
    "# model, feature 추가\n",
    "# 시계열 data에 어울리는 model 적용 필요\n",
    "# 갑자기 상승하는 다음날 값을 예측하지 못함"
   ]
  }
 ],
 "metadata": {
  "kernelspec": {
   "display_name": "Python 3 (ipykernel)",
   "language": "python",
   "name": "python3"
  },
  "language_info": {
   "codemirror_mode": {
    "name": "ipython",
    "version": 3
   },
   "file_extension": ".py",
   "mimetype": "text/x-python",
   "name": "python",
   "nbconvert_exporter": "python",
   "pygments_lexer": "ipython3",
   "version": "3.8.5"
  }
 },
 "nbformat": 4,
 "nbformat_minor": 5
}
